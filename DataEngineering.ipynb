{
 "cells": [
  {
   "cell_type": "markdown",
   "metadata": {},
   "source": [
    "Hiring Hackathon - https://datahack.analyticsvidhya.com/contest/job-a-thon-june-2021\n",
    "<p><b>Problem Statement: </b>Your Client ComZ is an ecommerce company. The company wants to focus on targeting the right customers  with the right products to increase overall revenue and conversion rate.\n",
    "\n",
    "To target the right customers with the right products, they need to build an ML model for marketing based on user interaction with products in the past like number of views,  most viewed product, number of activities of user, vintage of user and others.\n",
    "ComZ has contacted the Data Science and Engineering team to use this information to fuel the personalized advertisements, email marketing campaigns, or special offers on the landing and category pages of the company's website.\n",
    "\n",
    "You, being a part of the data engineering team, are expected to “Develop input features”  for the efficient marketing model given the Visitor log data and User Data.</p>"
   ]
  },
  {
   "cell_type": "code",
   "execution_count": 46,
   "metadata": {},
   "outputs": [],
   "source": [
    "#import necessary libraries\n",
    "\n",
    "import pandas as pd \n",
    "import numpy as np\n",
    "from datetime import datetime\n",
    "import seaborn as sns\n",
    "\n",
    "import warnings\n",
    "warnings.filterwarnings(\"ignore\")"
   ]
  },
  {
   "cell_type": "code",
   "execution_count": null,
   "metadata": {},
   "outputs": [],
   "source": []
  },
  {
   "cell_type": "code",
   "execution_count": 47,
   "metadata": {},
   "outputs": [],
   "source": [
    "#date for calculation\n",
    "\n",
    "lastdayfrom = pd.to_datetime('5/28/2018') # end of the record"
   ]
  },
  {
   "cell_type": "code",
   "execution_count": null,
   "metadata": {},
   "outputs": [],
   "source": []
  },
  {
   "cell_type": "code",
   "execution_count": 48,
   "metadata": {},
   "outputs": [],
   "source": [
    "#create dataframe with visitor Log Data \n",
    "\n",
    "visitor_log_data = pd.read_csv('D:\\\\Hackathon\\\\DataEngineering\\\\data\\\\VisitorLogsData.csv') "
   ]
  },
  {
   "cell_type": "code",
   "execution_count": 49,
   "metadata": {},
   "outputs": [],
   "source": [
    "#create dataframe with user data \n",
    "\n",
    "user_data = pd.read_csv('D:\\\\Hackathon\\\\DataEngineering\\\\data\\\\userTable.csv')"
   ]
  },
  {
   "cell_type": "code",
   "execution_count": 50,
   "metadata": {},
   "outputs": [],
   "source": [
    "#input feature dataframe initialize\n",
    "\n",
    "input_feature = pd.read_csv('D:\\\\Hackathon\\\\DataEngineering\\\\sample_submission_M7Vpb9f.csv')\n"
   ]
  },
  {
   "cell_type": "code",
   "execution_count": 51,
   "metadata": {},
   "outputs": [
    {
     "data": {
      "text/html": [
       "<div>\n",
       "<style scoped>\n",
       "    .dataframe tbody tr th:only-of-type {\n",
       "        vertical-align: middle;\n",
       "    }\n",
       "\n",
       "    .dataframe tbody tr th {\n",
       "        vertical-align: top;\n",
       "    }\n",
       "\n",
       "    .dataframe thead th {\n",
       "        text-align: right;\n",
       "    }\n",
       "</style>\n",
       "<table border=\"1\" class=\"dataframe\">\n",
       "  <thead>\n",
       "    <tr style=\"text-align: right;\">\n",
       "      <th></th>\n",
       "      <th>webClientID</th>\n",
       "      <th>VisitDateTime</th>\n",
       "      <th>ProductID</th>\n",
       "      <th>UserID</th>\n",
       "      <th>Activity</th>\n",
       "      <th>Browser</th>\n",
       "      <th>OS</th>\n",
       "      <th>City</th>\n",
       "      <th>Country</th>\n",
       "    </tr>\n",
       "  </thead>\n",
       "  <tbody>\n",
       "    <tr>\n",
       "      <th>271691</th>\n",
       "      <td>WI100000258501</td>\n",
       "      <td>2018-05-11 12:58:12.797</td>\n",
       "      <td>Pr100005</td>\n",
       "      <td>NaN</td>\n",
       "      <td>click</td>\n",
       "      <td>Chrome</td>\n",
       "      <td>Windows</td>\n",
       "      <td>Zurich</td>\n",
       "      <td>Switzerland Zurich</td>\n",
       "    </tr>\n",
       "    <tr>\n",
       "      <th>5689587</th>\n",
       "      <td>WI100000236387</td>\n",
       "      <td>2018-05-11 16:26:42.928</td>\n",
       "      <td>pr100126</td>\n",
       "      <td>NaN</td>\n",
       "      <td>NaN</td>\n",
       "      <td>Chrome</td>\n",
       "      <td>Mac OS X</td>\n",
       "      <td>Barcelona</td>\n",
       "      <td>Spain Barcelona</td>\n",
       "    </tr>\n",
       "    <tr>\n",
       "      <th>1253959</th>\n",
       "      <td>WI10000011610</td>\n",
       "      <td>2018-05-21 15:13:57.539</td>\n",
       "      <td>NaN</td>\n",
       "      <td>NaN</td>\n",
       "      <td>click</td>\n",
       "      <td>Chrome</td>\n",
       "      <td>Windows</td>\n",
       "      <td>Al Mansurah</td>\n",
       "      <td>Egypt</td>\n",
       "    </tr>\n",
       "    <tr>\n",
       "      <th>1990814</th>\n",
       "      <td>WI10000043340</td>\n",
       "      <td>2018-05-21 16:14:34.036</td>\n",
       "      <td>pr100176</td>\n",
       "      <td>NaN</td>\n",
       "      <td>click</td>\n",
       "      <td>Chrome</td>\n",
       "      <td>Windows</td>\n",
       "      <td>Auckland</td>\n",
       "      <td>New Zealand</td>\n",
       "    </tr>\n",
       "    <tr>\n",
       "      <th>2224851</th>\n",
       "      <td>WI100000196236</td>\n",
       "      <td>2018-05-21 02:07:23.603</td>\n",
       "      <td>Pr100770</td>\n",
       "      <td>NaN</td>\n",
       "      <td>pageload</td>\n",
       "      <td>Chrome</td>\n",
       "      <td>windows</td>\n",
       "      <td>Ryde</td>\n",
       "      <td>Australia</td>\n",
       "    </tr>\n",
       "  </tbody>\n",
       "</table>\n",
       "</div>"
      ],
      "text/plain": [
       "            webClientID            VisitDateTime ProductID UserID  Activity  \\\n",
       "271691   WI100000258501  2018-05-11 12:58:12.797  Pr100005    NaN     click   \n",
       "5689587  WI100000236387  2018-05-11 16:26:42.928  pr100126    NaN       NaN   \n",
       "1253959   WI10000011610  2018-05-21 15:13:57.539       NaN    NaN     click   \n",
       "1990814   WI10000043340  2018-05-21 16:14:34.036  pr100176    NaN     click   \n",
       "2224851  WI100000196236  2018-05-21 02:07:23.603  Pr100770    NaN  pageload   \n",
       "\n",
       "        Browser        OS         City             Country  \n",
       "271691   Chrome   Windows       Zurich  Switzerland Zurich  \n",
       "5689587  Chrome  Mac OS X    Barcelona     Spain Barcelona  \n",
       "1253959  Chrome   Windows  Al Mansurah               Egypt  \n",
       "1990814  Chrome   Windows     Auckland         New Zealand  \n",
       "2224851  Chrome   windows         Ryde           Australia  "
      ]
     },
     "execution_count": 51,
     "metadata": {},
     "output_type": "execute_result"
    }
   ],
   "source": [
    "visitor_log_data.sample(5)"
   ]
  },
  {
   "cell_type": "code",
   "execution_count": 52,
   "metadata": {},
   "outputs": [
    {
     "data": {
      "text/html": [
       "<div>\n",
       "<style scoped>\n",
       "    .dataframe tbody tr th:only-of-type {\n",
       "        vertical-align: middle;\n",
       "    }\n",
       "\n",
       "    .dataframe tbody tr th {\n",
       "        vertical-align: top;\n",
       "    }\n",
       "\n",
       "    .dataframe thead th {\n",
       "        text-align: right;\n",
       "    }\n",
       "</style>\n",
       "<table border=\"1\" class=\"dataframe\">\n",
       "  <thead>\n",
       "    <tr style=\"text-align: right;\">\n",
       "      <th></th>\n",
       "      <th>UserID</th>\n",
       "      <th>Signup Date</th>\n",
       "      <th>User Segment</th>\n",
       "    </tr>\n",
       "  </thead>\n",
       "  <tbody>\n",
       "    <tr>\n",
       "      <th>0</th>\n",
       "      <td>U133159</td>\n",
       "      <td>2018-04-14 07:01:16.202607+00:00</td>\n",
       "      <td>C</td>\n",
       "    </tr>\n",
       "    <tr>\n",
       "      <th>1</th>\n",
       "      <td>U129368</td>\n",
       "      <td>2017-12-02 09:38:41.584270+00:00</td>\n",
       "      <td>B</td>\n",
       "    </tr>\n",
       "    <tr>\n",
       "      <th>2</th>\n",
       "      <td>U109654</td>\n",
       "      <td>2013-03-19 11:38:55+00:00</td>\n",
       "      <td>B</td>\n",
       "    </tr>\n",
       "    <tr>\n",
       "      <th>3</th>\n",
       "      <td>U108998</td>\n",
       "      <td>2018-01-18 08:29:51.627954+00:00</td>\n",
       "      <td>C</td>\n",
       "    </tr>\n",
       "    <tr>\n",
       "      <th>4</th>\n",
       "      <td>U131393</td>\n",
       "      <td>2018-03-27 08:05:28.806800+00:00</td>\n",
       "      <td>B</td>\n",
       "    </tr>\n",
       "  </tbody>\n",
       "</table>\n",
       "</div>"
      ],
      "text/plain": [
       "    UserID                       Signup Date User Segment\n",
       "0  U133159  2018-04-14 07:01:16.202607+00:00            C\n",
       "1  U129368  2017-12-02 09:38:41.584270+00:00            B\n",
       "2  U109654         2013-03-19 11:38:55+00:00            B\n",
       "3  U108998  2018-01-18 08:29:51.627954+00:00            C\n",
       "4  U131393  2018-03-27 08:05:28.806800+00:00            B"
      ]
     },
     "execution_count": 52,
     "metadata": {},
     "output_type": "execute_result"
    }
   ],
   "source": [
    "user_data.head()"
   ]
  },
  {
   "cell_type": "code",
   "execution_count": 53,
   "metadata": {},
   "outputs": [
    {
     "name": "stdout",
     "output_type": "stream",
     "text": [
      "Size of VisitorLogsData (6588000, 9)\n",
      "Size of userTable (34050, 3)\n"
     ]
    }
   ],
   "source": [
    "print('Size of VisitorLogsData',visitor_log_data.shape)\n",
    "print('Size of userTable',user_data.shape)"
   ]
  },
  {
   "cell_type": "code",
   "execution_count": 54,
   "metadata": {},
   "outputs": [
    {
     "data": {
      "text/plain": [
       "webClientID            0\n",
       "VisitDateTime     658915\n",
       "ProductID         527137\n",
       "UserID           5937305\n",
       "Activity          889446\n",
       "Browser                0\n",
       "OS                     0\n",
       "City             2165831\n",
       "Country           397693\n",
       "dtype: int64"
      ]
     },
     "execution_count": 54,
     "metadata": {},
     "output_type": "execute_result"
    }
   ],
   "source": [
    "#null present in the visitor log data\n",
    "\n",
    "visitor_log_data.isnull().sum()"
   ]
  },
  {
   "cell_type": "code",
   "execution_count": 55,
   "metadata": {},
   "outputs": [
    {
     "data": {
      "text/plain": [
       "UserID          0\n",
       "Signup Date     0\n",
       "User Segment    0\n",
       "dtype: int64"
      ]
     },
     "execution_count": 55,
     "metadata": {},
     "output_type": "execute_result"
    }
   ],
   "source": [
    "#null in user data\n",
    "\n",
    "user_data.isnull().sum()"
   ]
  },
  {
   "cell_type": "markdown",
   "metadata": {},
   "source": [
    "## Clean Dataset"
   ]
  },
  {
   "cell_type": "code",
   "execution_count": 56,
   "metadata": {},
   "outputs": [
    {
     "name": "stdout",
     "output_type": "stream",
     "text": [
      "Previous DF size 6588000\n",
      "Post DF size 650695\n"
     ]
    }
   ],
   "source": [
    "#drop the rows where UserID is NULL\n",
    "\n",
    "print('Previous DF size', len(visitor_log_data))\n",
    "visitor_log_data.dropna(subset=['UserID'],inplace=True)\n",
    "print('Post DF size', len(visitor_log_data))"
   ]
  },
  {
   "cell_type": "code",
   "execution_count": 64,
   "metadata": {},
   "outputs": [
    {
     "data": {
      "text/html": [
       "<div>\n",
       "<style scoped>\n",
       "    .dataframe tbody tr th:only-of-type {\n",
       "        vertical-align: middle;\n",
       "    }\n",
       "\n",
       "    .dataframe tbody tr th {\n",
       "        vertical-align: top;\n",
       "    }\n",
       "\n",
       "    .dataframe thead th {\n",
       "        text-align: right;\n",
       "    }\n",
       "</style>\n",
       "<table border=\"1\" class=\"dataframe\">\n",
       "  <thead>\n",
       "    <tr style=\"text-align: right;\">\n",
       "      <th></th>\n",
       "      <th>webClientID</th>\n",
       "      <th>VisitDateTime</th>\n",
       "      <th>ProductID</th>\n",
       "      <th>UserID</th>\n",
       "      <th>Activity</th>\n",
       "      <th>Browser</th>\n",
       "      <th>OS</th>\n",
       "      <th>City</th>\n",
       "      <th>Country</th>\n",
       "    </tr>\n",
       "  </thead>\n",
       "  <tbody>\n",
       "    <tr>\n",
       "      <th>3452388</th>\n",
       "      <td>WI10000020634</td>\n",
       "      <td>2018-05-18 10:43:56.628</td>\n",
       "      <td>Pr100258</td>\n",
       "      <td>U100002</td>\n",
       "      <td>pageload</td>\n",
       "      <td>Chrome Mobile</td>\n",
       "      <td>Android</td>\n",
       "      <td>Salvador</td>\n",
       "      <td>Brazil</td>\n",
       "    </tr>\n",
       "    <tr>\n",
       "      <th>4655019</th>\n",
       "      <td>WI10000020634</td>\n",
       "      <td>1526639986717000000</td>\n",
       "      <td>Pr100258</td>\n",
       "      <td>U100002</td>\n",
       "      <td>click</td>\n",
       "      <td>Chrome Mobile</td>\n",
       "      <td>Android</td>\n",
       "      <td>Salvador</td>\n",
       "      <td>Brazil</td>\n",
       "    </tr>\n",
       "    <tr>\n",
       "      <th>5811371</th>\n",
       "      <td>WI10000020634</td>\n",
       "      <td>2018-05-18 10:35:29.008</td>\n",
       "      <td>Pr100258</td>\n",
       "      <td>U100002</td>\n",
       "      <td>pageload</td>\n",
       "      <td>Chrome Mobile</td>\n",
       "      <td>Android</td>\n",
       "      <td>Salvador</td>\n",
       "      <td>Brazil Salvador</td>\n",
       "    </tr>\n",
       "    <tr>\n",
       "      <th>5179952</th>\n",
       "      <td>WI10000020634</td>\n",
       "      <td>2018-05-18 10:39:53.385</td>\n",
       "      <td>Pr101097</td>\n",
       "      <td>U100002</td>\n",
       "      <td>NaN</td>\n",
       "      <td>Chrome Mobile</td>\n",
       "      <td>Android</td>\n",
       "      <td>Salvador</td>\n",
       "      <td>Brazil</td>\n",
       "    </tr>\n",
       "    <tr>\n",
       "      <th>270999</th>\n",
       "      <td>WI10000020634</td>\n",
       "      <td>2018-05-18 10:39:41.834</td>\n",
       "      <td>pr100258</td>\n",
       "      <td>U100002</td>\n",
       "      <td>NaN</td>\n",
       "      <td>Chrome Mobile</td>\n",
       "      <td>Android</td>\n",
       "      <td>Salvador</td>\n",
       "      <td>Brazil</td>\n",
       "    </tr>\n",
       "    <tr>\n",
       "      <th>713909</th>\n",
       "      <td>WI100000392911</td>\n",
       "      <td>2018-05-25 02:15:57.831</td>\n",
       "      <td>Pr100079</td>\n",
       "      <td>U100003</td>\n",
       "      <td>pageload</td>\n",
       "      <td>Chrome</td>\n",
       "      <td>Windows</td>\n",
       "      <td>Kolkata</td>\n",
       "      <td>India</td>\n",
       "    </tr>\n",
       "    <tr>\n",
       "      <th>3873305</th>\n",
       "      <td>WI100000979909</td>\n",
       "      <td>2018-05-13 14:14:30.806</td>\n",
       "      <td>Pr100178</td>\n",
       "      <td>U100003</td>\n",
       "      <td>NaN</td>\n",
       "      <td>Chrome</td>\n",
       "      <td>Windows</td>\n",
       "      <td>Kolkata</td>\n",
       "      <td>India</td>\n",
       "    </tr>\n",
       "    <tr>\n",
       "      <th>2356626</th>\n",
       "      <td>WI100000392911</td>\n",
       "      <td>2018-05-25 02:16:05.912</td>\n",
       "      <td>pr100079</td>\n",
       "      <td>U100003</td>\n",
       "      <td>click</td>\n",
       "      <td>Chrome</td>\n",
       "      <td>Windows</td>\n",
       "      <td>Kolkata</td>\n",
       "      <td>India</td>\n",
       "    </tr>\n",
       "    <tr>\n",
       "      <th>341562</th>\n",
       "      <td>WI100000392911</td>\n",
       "      <td>2018-05-25 02:17:48.606</td>\n",
       "      <td>NaN</td>\n",
       "      <td>U100003</td>\n",
       "      <td>click</td>\n",
       "      <td>Chrome</td>\n",
       "      <td>Windows</td>\n",
       "      <td>Kolkata</td>\n",
       "      <td>India Kolkata</td>\n",
       "    </tr>\n",
       "    <tr>\n",
       "      <th>3204810</th>\n",
       "      <td>WI10000097797</td>\n",
       "      <td>2018-05-17 12:43:56.518</td>\n",
       "      <td>Pr100005</td>\n",
       "      <td>U100004</td>\n",
       "      <td>click</td>\n",
       "      <td>Chrome</td>\n",
       "      <td>Windows</td>\n",
       "      <td>Urbana</td>\n",
       "      <td>United States Urbana</td>\n",
       "    </tr>\n",
       "    <tr>\n",
       "      <th>4302154</th>\n",
       "      <td>WI10000097797</td>\n",
       "      <td>2018-05-20 14:38:37.204</td>\n",
       "      <td>Pr100069</td>\n",
       "      <td>U100004</td>\n",
       "      <td>PAGELOAD</td>\n",
       "      <td>Chrome</td>\n",
       "      <td>Windows</td>\n",
       "      <td>Urbana</td>\n",
       "      <td>United States</td>\n",
       "    </tr>\n",
       "    <tr>\n",
       "      <th>368726</th>\n",
       "      <td>WI10000097797</td>\n",
       "      <td>2018-05-13 21:58:28.410</td>\n",
       "      <td>Pr100204</td>\n",
       "      <td>U100004</td>\n",
       "      <td>CLICK</td>\n",
       "      <td>Chrome</td>\n",
       "      <td>Windows</td>\n",
       "      <td>Urbana</td>\n",
       "      <td>United States</td>\n",
       "    </tr>\n",
       "    <tr>\n",
       "      <th>2663780</th>\n",
       "      <td>WI10000097797</td>\n",
       "      <td>2018-05-13 21:58:25.055</td>\n",
       "      <td>Pr100204</td>\n",
       "      <td>U100004</td>\n",
       "      <td>click</td>\n",
       "      <td>Chrome</td>\n",
       "      <td>Windows</td>\n",
       "      <td>Urbana</td>\n",
       "      <td>United States</td>\n",
       "    </tr>\n",
       "    <tr>\n",
       "      <th>5651653</th>\n",
       "      <td>WI10000097797</td>\n",
       "      <td>2018-05-13 21:58:26.526</td>\n",
       "      <td>Pr100204</td>\n",
       "      <td>U100004</td>\n",
       "      <td>click</td>\n",
       "      <td>Chrome</td>\n",
       "      <td>Windows</td>\n",
       "      <td>Urbana</td>\n",
       "      <td>United States</td>\n",
       "    </tr>\n",
       "    <tr>\n",
       "      <th>1641852</th>\n",
       "      <td>WI10000097797</td>\n",
       "      <td>2018-05-17 12:57:58.961</td>\n",
       "      <td>Pr100311</td>\n",
       "      <td>U100004</td>\n",
       "      <td>NaN</td>\n",
       "      <td>Chrome</td>\n",
       "      <td>Windows</td>\n",
       "      <td>Urbana</td>\n",
       "      <td>United States Urbana</td>\n",
       "    </tr>\n",
       "    <tr>\n",
       "      <th>1234954</th>\n",
       "      <td>WI10000097797</td>\n",
       "      <td>1526391717137000000</td>\n",
       "      <td>Pr100312</td>\n",
       "      <td>U100004</td>\n",
       "      <td>pageload</td>\n",
       "      <td>Chrome</td>\n",
       "      <td>Windows</td>\n",
       "      <td>Urbana</td>\n",
       "      <td>United States Urbana</td>\n",
       "    </tr>\n",
       "    <tr>\n",
       "      <th>1114694</th>\n",
       "      <td>WI10000097797</td>\n",
       "      <td>2018-05-16 17:55:17.529</td>\n",
       "      <td>Pr100355</td>\n",
       "      <td>U100004</td>\n",
       "      <td>NaN</td>\n",
       "      <td>Chrome</td>\n",
       "      <td>Windows</td>\n",
       "      <td>Urbana</td>\n",
       "      <td>United States</td>\n",
       "    </tr>\n",
       "    <tr>\n",
       "      <th>1195396</th>\n",
       "      <td>WI10000097797</td>\n",
       "      <td>2018-05-16 17:55:09.954</td>\n",
       "      <td>Pr100355</td>\n",
       "      <td>U100004</td>\n",
       "      <td>click</td>\n",
       "      <td>Chrome</td>\n",
       "      <td>Windows</td>\n",
       "      <td>Urbana</td>\n",
       "      <td>United States</td>\n",
       "    </tr>\n",
       "    <tr>\n",
       "      <th>3699880</th>\n",
       "      <td>WI10000097797</td>\n",
       "      <td>2018-05-16 17:55:15.994</td>\n",
       "      <td>Pr100355</td>\n",
       "      <td>U100004</td>\n",
       "      <td>CLICK</td>\n",
       "      <td>Chrome</td>\n",
       "      <td>Windows</td>\n",
       "      <td>Urbana</td>\n",
       "      <td>United States Urbana</td>\n",
       "    </tr>\n",
       "    <tr>\n",
       "      <th>4992333</th>\n",
       "      <td>WI10000097797</td>\n",
       "      <td>1526557235288000000</td>\n",
       "      <td>Pr100408</td>\n",
       "      <td>U100004</td>\n",
       "      <td>pageload</td>\n",
       "      <td>Chrome</td>\n",
       "      <td>Windows</td>\n",
       "      <td>Urbana</td>\n",
       "      <td>United States</td>\n",
       "    </tr>\n",
       "    <tr>\n",
       "      <th>5524444</th>\n",
       "      <td>WI10000097797</td>\n",
       "      <td>2018-05-17 12:44:48.718</td>\n",
       "      <td>Pr100591</td>\n",
       "      <td>U100004</td>\n",
       "      <td>pageload</td>\n",
       "      <td>Chrome</td>\n",
       "      <td>Windows</td>\n",
       "      <td>Urbana</td>\n",
       "      <td>United States</td>\n",
       "    </tr>\n",
       "    <tr>\n",
       "      <th>4417545</th>\n",
       "      <td>WI10000097797</td>\n",
       "      <td>2018-05-13 22:03:12.308</td>\n",
       "      <td>Pr100694</td>\n",
       "      <td>U100004</td>\n",
       "      <td>pageload</td>\n",
       "      <td>Chrome</td>\n",
       "      <td>Windows</td>\n",
       "      <td>Urbana</td>\n",
       "      <td>United States</td>\n",
       "    </tr>\n",
       "    <tr>\n",
       "      <th>1408972</th>\n",
       "      <td>WI10000097797</td>\n",
       "      <td>2018-05-13 22:03:12.308</td>\n",
       "      <td>Pr100753</td>\n",
       "      <td>U100004</td>\n",
       "      <td>pageload</td>\n",
       "      <td>Chrome</td>\n",
       "      <td>Windows</td>\n",
       "      <td>Urbana</td>\n",
       "      <td>United States Urbana</td>\n",
       "    </tr>\n",
       "    <tr>\n",
       "      <th>2557827</th>\n",
       "      <td>WI10000097797</td>\n",
       "      <td>2018-05-20 14:38:36.742</td>\n",
       "      <td>Pr100753</td>\n",
       "      <td>U100004</td>\n",
       "      <td>pageload</td>\n",
       "      <td>Chrome</td>\n",
       "      <td>Windows</td>\n",
       "      <td>Urbana</td>\n",
       "      <td>United States</td>\n",
       "    </tr>\n",
       "    <tr>\n",
       "      <th>5172508</th>\n",
       "      <td>WI10000097797</td>\n",
       "      <td>2018-05-20 14:38:36.742</td>\n",
       "      <td>Pr100753</td>\n",
       "      <td>U100004</td>\n",
       "      <td>pageload</td>\n",
       "      <td>Chrome</td>\n",
       "      <td>Windows</td>\n",
       "      <td>Urbana</td>\n",
       "      <td>United States</td>\n",
       "    </tr>\n",
       "    <tr>\n",
       "      <th>3458705</th>\n",
       "      <td>WI10000097797</td>\n",
       "      <td>2018-05-19 12:26:48.411</td>\n",
       "      <td>Pr101448</td>\n",
       "      <td>U100004</td>\n",
       "      <td>pageload</td>\n",
       "      <td>Chrome</td>\n",
       "      <td>Windows</td>\n",
       "      <td>Urbana</td>\n",
       "      <td>United States</td>\n",
       "    </tr>\n",
       "    <tr>\n",
       "      <th>265807</th>\n",
       "      <td>WI10000097797</td>\n",
       "      <td>2018-05-13 22:04:47.159</td>\n",
       "      <td>Pr101554</td>\n",
       "      <td>U100004</td>\n",
       "      <td>NaN</td>\n",
       "      <td>Chrome</td>\n",
       "      <td>Windows</td>\n",
       "      <td>Urbana</td>\n",
       "      <td>United States</td>\n",
       "    </tr>\n",
       "    <tr>\n",
       "      <th>89600</th>\n",
       "      <td>WI10000097797</td>\n",
       "      <td>2018-05-16 18:25:41.371</td>\n",
       "      <td>pr100142</td>\n",
       "      <td>U100004</td>\n",
       "      <td>pageload</td>\n",
       "      <td>Chrome</td>\n",
       "      <td>Windows</td>\n",
       "      <td>Urbana</td>\n",
       "      <td>United States</td>\n",
       "    </tr>\n",
       "    <tr>\n",
       "      <th>3256439</th>\n",
       "      <td>WI10000097797</td>\n",
       "      <td>2018-05-17 13:52:57.648</td>\n",
       "      <td>pr100197</td>\n",
       "      <td>U100004</td>\n",
       "      <td>pageload</td>\n",
       "      <td>Chrome</td>\n",
       "      <td>Windows</td>\n",
       "      <td>Urbana</td>\n",
       "      <td>United States</td>\n",
       "    </tr>\n",
       "    <tr>\n",
       "      <th>2720973</th>\n",
       "      <td>WI10000097797</td>\n",
       "      <td>2018-05-16 17:55:11.221</td>\n",
       "      <td>pr100355</td>\n",
       "      <td>U100004</td>\n",
       "      <td>click</td>\n",
       "      <td>Chrome</td>\n",
       "      <td>windows</td>\n",
       "      <td>Urbana</td>\n",
       "      <td>United States</td>\n",
       "    </tr>\n",
       "  </tbody>\n",
       "</table>\n",
       "</div>"
      ],
      "text/plain": [
       "            webClientID            VisitDateTime ProductID   UserID  Activity  \\\n",
       "3452388   WI10000020634  2018-05-18 10:43:56.628  Pr100258  U100002  pageload   \n",
       "4655019   WI10000020634      1526639986717000000  Pr100258  U100002     click   \n",
       "5811371   WI10000020634  2018-05-18 10:35:29.008  Pr100258  U100002  pageload   \n",
       "5179952   WI10000020634  2018-05-18 10:39:53.385  Pr101097  U100002       NaN   \n",
       "270999    WI10000020634  2018-05-18 10:39:41.834  pr100258  U100002       NaN   \n",
       "713909   WI100000392911  2018-05-25 02:15:57.831  Pr100079  U100003  pageload   \n",
       "3873305  WI100000979909  2018-05-13 14:14:30.806  Pr100178  U100003       NaN   \n",
       "2356626  WI100000392911  2018-05-25 02:16:05.912  pr100079  U100003     click   \n",
       "341562   WI100000392911  2018-05-25 02:17:48.606       NaN  U100003     click   \n",
       "3204810   WI10000097797  2018-05-17 12:43:56.518  Pr100005  U100004     click   \n",
       "4302154   WI10000097797  2018-05-20 14:38:37.204  Pr100069  U100004  PAGELOAD   \n",
       "368726    WI10000097797  2018-05-13 21:58:28.410  Pr100204  U100004     CLICK   \n",
       "2663780   WI10000097797  2018-05-13 21:58:25.055  Pr100204  U100004     click   \n",
       "5651653   WI10000097797  2018-05-13 21:58:26.526  Pr100204  U100004     click   \n",
       "1641852   WI10000097797  2018-05-17 12:57:58.961  Pr100311  U100004       NaN   \n",
       "1234954   WI10000097797      1526391717137000000  Pr100312  U100004  pageload   \n",
       "1114694   WI10000097797  2018-05-16 17:55:17.529  Pr100355  U100004       NaN   \n",
       "1195396   WI10000097797  2018-05-16 17:55:09.954  Pr100355  U100004     click   \n",
       "3699880   WI10000097797  2018-05-16 17:55:15.994  Pr100355  U100004     CLICK   \n",
       "4992333   WI10000097797      1526557235288000000  Pr100408  U100004  pageload   \n",
       "5524444   WI10000097797  2018-05-17 12:44:48.718  Pr100591  U100004  pageload   \n",
       "4417545   WI10000097797  2018-05-13 22:03:12.308  Pr100694  U100004  pageload   \n",
       "1408972   WI10000097797  2018-05-13 22:03:12.308  Pr100753  U100004  pageload   \n",
       "2557827   WI10000097797  2018-05-20 14:38:36.742  Pr100753  U100004  pageload   \n",
       "5172508   WI10000097797  2018-05-20 14:38:36.742  Pr100753  U100004  pageload   \n",
       "3458705   WI10000097797  2018-05-19 12:26:48.411  Pr101448  U100004  pageload   \n",
       "265807    WI10000097797  2018-05-13 22:04:47.159  Pr101554  U100004       NaN   \n",
       "89600     WI10000097797  2018-05-16 18:25:41.371  pr100142  U100004  pageload   \n",
       "3256439   WI10000097797  2018-05-17 13:52:57.648  pr100197  U100004  pageload   \n",
       "2720973   WI10000097797  2018-05-16 17:55:11.221  pr100355  U100004     click   \n",
       "\n",
       "               Browser       OS      City               Country  \n",
       "3452388  Chrome Mobile  Android  Salvador                Brazil  \n",
       "4655019  Chrome Mobile  Android  Salvador                Brazil  \n",
       "5811371  Chrome Mobile  Android  Salvador       Brazil Salvador  \n",
       "5179952  Chrome Mobile  Android  Salvador                Brazil  \n",
       "270999   Chrome Mobile  Android  Salvador                Brazil  \n",
       "713909          Chrome  Windows   Kolkata                 India  \n",
       "3873305         Chrome  Windows   Kolkata                 India  \n",
       "2356626         Chrome  Windows   Kolkata                 India  \n",
       "341562          Chrome  Windows   Kolkata         India Kolkata  \n",
       "3204810         Chrome  Windows    Urbana  United States Urbana  \n",
       "4302154         Chrome  Windows    Urbana         United States  \n",
       "368726          Chrome  Windows    Urbana         United States  \n",
       "2663780         Chrome  Windows    Urbana         United States  \n",
       "5651653         Chrome  Windows    Urbana         United States  \n",
       "1641852         Chrome  Windows    Urbana  United States Urbana  \n",
       "1234954         Chrome  Windows    Urbana  United States Urbana  \n",
       "1114694         Chrome  Windows    Urbana         United States  \n",
       "1195396         Chrome  Windows    Urbana         United States  \n",
       "3699880         Chrome  Windows    Urbana  United States Urbana  \n",
       "4992333         Chrome  Windows    Urbana         United States  \n",
       "5524444         Chrome  Windows    Urbana         United States  \n",
       "4417545         Chrome  Windows    Urbana         United States  \n",
       "1408972         Chrome  Windows    Urbana  United States Urbana  \n",
       "2557827         Chrome  Windows    Urbana         United States  \n",
       "5172508         Chrome  Windows    Urbana         United States  \n",
       "3458705         Chrome  Windows    Urbana         United States  \n",
       "265807          Chrome  Windows    Urbana         United States  \n",
       "89600           Chrome  Windows    Urbana         United States  \n",
       "3256439         Chrome  Windows    Urbana         United States  \n",
       "2720973         Chrome  windows    Urbana         United States  "
      ]
     },
     "execution_count": 64,
     "metadata": {},
     "output_type": "execute_result"
    }
   ],
   "source": [
    "visitor_log_data.sort_values(by=['UserID','ProductID','webClientID']).head(30)"
   ]
  },
  {
   "cell_type": "code",
   "execution_count": 58,
   "metadata": {},
   "outputs": [],
   "source": [
    "#sorted the dataframe by UserID and then ffill VisitDateTime\n",
    "\n",
    "visitor_log_data.sort_values(by=['UserID','webClientID','ProductID'],inplace = True)\n",
    "visitor_log_data['VisitDateTime'].ffill(inplace=True)\n",
    "visitor_log_data.sort_index(inplace=True)"
   ]
  },
  {
   "cell_type": "code",
   "execution_count": 14,
   "metadata": {},
   "outputs": [],
   "source": [
    "#transfer unix date time to normal\n",
    "\n",
    "\n",
    "visitor_log_data['VisitDateTime'] = visitor_log_data['VisitDateTime'].apply(lambda x: pd.to_datetime(int(x)) \n",
    "                                                                              if ('-' not in str(x)) else x)"
   ]
  },
  {
   "cell_type": "code",
   "execution_count": 15,
   "metadata": {},
   "outputs": [],
   "source": [
    "#first we sort the data based on 'UserID','VisitDateTime' and then we ffill the NULLs of Activity\n",
    "\n",
    "visitor_log_data.sort_values(by=['UserID','webClientID','VisitDateTime'],inplace = True)\n",
    "visitor_log_data['ProductID'].bfill(inplace=True)\n",
    "visitor_log_data.sort_values(by=['UserID','ProductID','webClientID'],inplace = True)\n",
    "visitor_log_data['Activity'].ffill(inplace=True)\n",
    "visitor_log_data.sort_index(inplace=True)"
   ]
  },
  {
   "cell_type": "code",
   "execution_count": 16,
   "metadata": {},
   "outputs": [],
   "source": [
    "#change strings to upper case for uniformity\n",
    "\n",
    "visitor_log_data['Activity'] = visitor_log_data['Activity'].str.upper()\n",
    "visitor_log_data['Browser'] = visitor_log_data['Browser'].str.upper()\n",
    "visitor_log_data['OS'] = visitor_log_data['OS'].str.upper()\n",
    "visitor_log_data['ProductID'] = visitor_log_data['ProductID'].str.upper()"
   ]
  },
  {
   "cell_type": "code",
   "execution_count": 17,
   "metadata": {},
   "outputs": [],
   "source": [
    "#field City and Country in visitor_log_data is not necessary so drop them\n",
    "\n",
    "visitor_log_data.drop(['City','Country','webClientID'],axis=1,inplace=True)"
   ]
  },
  {
   "cell_type": "markdown",
   "metadata": {},
   "source": [
    "# Extract Features"
   ]
  },
  {
   "cell_type": "markdown",
   "metadata": {},
   "source": [
    "#### Does the data has only 21days record?"
   ]
  },
  {
   "cell_type": "code",
   "execution_count": 18,
   "metadata": {},
   "outputs": [
    {
     "data": {
      "text/plain": [
       "True"
      ]
     },
     "execution_count": 18,
     "metadata": {},
     "output_type": "execute_result"
    }
   ],
   "source": [
    "len(visitor_log_data) == len(visitor_log_data[visitor_log_data['VisitDateTime'] >= (pd.to_datetime(lastdayfrom) - pd.Timedelta(days=21))])"
   ]
  },
  {
   "cell_type": "markdown",
   "metadata": {},
   "source": [
    "## No_of_days_Visited_7_Days\n",
    "\n",
    "How many days a user was active on platform in the last 7 days."
   ]
  },
  {
   "cell_type": "code",
   "execution_count": 19,
   "metadata": {},
   "outputs": [],
   "source": [
    "#dataframe for last 7days data\n",
    "\n",
    "last_seven_days = visitor_log_data[visitor_log_data['VisitDateTime'] >= (pd.to_datetime(lastdayfrom) - pd.Timedelta(days=7))]\n",
    "\n",
    "#extract day of date\n",
    "\n",
    "last_seven_days['days'] = last_seven_days['VisitDateTime'].apply(lambda x: x.day)"
   ]
  },
  {
   "cell_type": "code",
   "execution_count": 20,
   "metadata": {},
   "outputs": [
    {
     "data": {
      "text/plain": [
       "16428"
      ]
     },
     "execution_count": 20,
     "metadata": {},
     "output_type": "execute_result"
    }
   ],
   "source": [
    "last_seven_days['UserID'].nunique() #no of users active. so there are few users who are active in last 7 days"
   ]
  },
  {
   "cell_type": "code",
   "execution_count": 21,
   "metadata": {},
   "outputs": [],
   "source": [
    "# create dictionary with userid and How many days a user was active on platform in the last 7 days\n",
    "\n",
    "temp_7_active_usr=last_seven_days[['UserID','days']].groupby(['UserID','days']).count().reset_index()\n",
    "df_7_active_usr = temp_7_active_usr.groupby('UserID').count().reset_index()\n",
    "dic_map_usr_7_Days = pd.Series(df_7_active_usr['days'].values,index=df_7_active_usr['UserID']).to_dict()"
   ]
  },
  {
   "cell_type": "code",
   "execution_count": 22,
   "metadata": {},
   "outputs": [
    {
     "data": {
      "text/plain": [
       "array([nan,  1.,  6.,  4.,  2.,  3.,  5.,  7.])"
      ]
     },
     "execution_count": 22,
     "metadata": {},
     "output_type": "execute_result"
    }
   ],
   "source": [
    "#filled input_feature mapped with user active in 7 days\n",
    "\n",
    "input_feature['No_of_days_Visited_7_Days']= input_feature['UserID'].map(dic_map_usr_7_Days)\n",
    "input_feature['No_of_days_Visited_7_Days'].unique()"
   ]
  },
  {
   "cell_type": "code",
   "execution_count": 23,
   "metadata": {},
   "outputs": [],
   "source": [
    "input_feature['No_of_days_Visited_7_Days'].fillna(0,inplace=True) #those user who were not active put zero for them"
   ]
  },
  {
   "cell_type": "markdown",
   "metadata": {},
   "source": [
    "## No_Of_Products_Viewed_15_Days\n",
    "\n",
    "Number of Products viewed by the user in the last 15 days"
   ]
  },
  {
   "cell_type": "code",
   "execution_count": 24,
   "metadata": {},
   "outputs": [],
   "source": [
    "#dataframe for last 7days data\n",
    "\n",
    "last_15_days = visitor_log_data[visitor_log_data['VisitDateTime'] >= (pd.to_datetime(lastdayfrom) - pd.Timedelta(days=15))]\n"
   ]
  },
  {
   "cell_type": "code",
   "execution_count": 25,
   "metadata": {},
   "outputs": [],
   "source": [
    "# create dictionary with userid and How many product a user viewed on platform in the last 15 days\n",
    "\n",
    "temp_15days_prodct = last_15_days[['UserID','ProductID']].groupby(['UserID','ProductID']).count().reset_index()\n",
    "df_15days_product = temp_15days_prodct.groupby('UserID')['ProductID'].count().reset_index()\n",
    "dic_map_15_Days_product = pd.Series(df_15days_product['ProductID'].values,index=df_15days_product['UserID']).to_dict()"
   ]
  },
  {
   "cell_type": "code",
   "execution_count": 26,
   "metadata": {},
   "outputs": [
    {
     "data": {
      "text/plain": [
       "array([  2.,  16.,   3.,   1.,  nan,  18.,  13.,   6.,   4.,   5.,   8.,\n",
       "        41.,  12.,   9.,  88.,  11.,  10.,  31.,   7.,  35.,  14.,  29.,\n",
       "        17.,  19.,  15.,  28.,  25.,  22.,  48.,  69.,  23.,  21.,  32.,\n",
       "       104.,  30.,  50.,  20.,  24.,  47.,  27.,  40.,  34.,  57.,  43.,\n",
       "        49.,  33.,  38.,  39.,  45.,  51.,  26.,  68.,  44.,  37.,  70.,\n",
       "        53.,  52.,  36.,  75.,  81.])"
      ]
     },
     "execution_count": 26,
     "metadata": {},
     "output_type": "execute_result"
    }
   ],
   "source": [
    "#filled input_feature mapped with user active in 15 days\n",
    "\n",
    "input_feature['No_Of_Products_Viewed_15_Days']= input_feature['UserID'].map(dic_map_15_Days_product)\n",
    "input_feature['No_Of_Products_Viewed_15_Days'].unique()"
   ]
  },
  {
   "cell_type": "code",
   "execution_count": 27,
   "metadata": {},
   "outputs": [],
   "source": [
    "#those user who were not viewed products put zero for them\n",
    "\n",
    "input_feature['No_Of_Products_Viewed_15_Days'].fillna(0,inplace=True) "
   ]
  },
  {
   "cell_type": "markdown",
   "metadata": {},
   "source": [
    "## User_Vintage\n",
    "Vintage (In Days) of the user as of today"
   ]
  },
  {
   "cell_type": "code",
   "execution_count": 28,
   "metadata": {},
   "outputs": [],
   "source": [
    "#timezone must be excluded from Signup Date to get total Vintage (In Days), then we need only date transformation\n",
    "\n",
    "user_data['User_Vintage']= (lastdayfrom - pd.to_datetime(user_data['Signup Date']).dt.tz_localize(None))\n",
    "user_data['User_Vintage'] = user_data['User_Vintage'].dt.days"
   ]
  },
  {
   "cell_type": "code",
   "execution_count": 29,
   "metadata": {},
   "outputs": [],
   "source": [
    "#created dictionary to map it with input_feature's UserID\n",
    "\n",
    "user_vinta_dic = pd.Series(user_data['User_Vintage'].values,index=user_data['UserID']).to_dict()\n",
    "input_feature['User_Vintage']= input_feature['UserID'].map(user_vinta_dic)"
   ]
  },
  {
   "cell_type": "markdown",
   "metadata": {},
   "source": [
    "## Most_Viewed_product_15_Days\n",
    "Most frequently viewed (page loads) product by the user in the last 15 days. If there are multiple products that have a similar number of page loads then , consider the recent one. If a user has not viewed any product in the last 15 days then put it as Product101. "
   ]
  },
  {
   "cell_type": "code",
   "execution_count": 30,
   "metadata": {},
   "outputs": [],
   "source": [
    "view15_product = last_15_days[last_15_days['Activity'] == 'PAGELOAD'] #filter with PAGELOAD"
   ]
  },
  {
   "cell_type": "code",
   "execution_count": 31,
   "metadata": {},
   "outputs": [],
   "source": [
    "# in 15 days which products are viewed how many time by user\n",
    "\n",
    "temp_most_viewd = view15_product[['UserID','ProductID','Activity']].groupby(['UserID','ProductID'])['Activity'].count().reset_index()"
   ]
  },
  {
   "cell_type": "code",
   "execution_count": 32,
   "metadata": {},
   "outputs": [],
   "source": [
    "#most viewed product\n",
    "\n",
    "most_viewd_15=temp_most_viewd.iloc[temp_most_viewd.groupby('UserID').apply(lambda x: x['Activity'].idxmax())]\n"
   ]
  },
  {
   "cell_type": "code",
   "execution_count": 33,
   "metadata": {},
   "outputs": [],
   "source": [
    "most_viewed_prdct_dic = pd.Series(most_viewd_15['ProductID'].values,index=most_viewd_15['UserID']).to_dict()\n",
    "input_feature['Most_Viewed_product_15_Days']= input_feature['UserID'].map(most_viewed_prdct_dic)"
   ]
  },
  {
   "cell_type": "code",
   "execution_count": 34,
   "metadata": {},
   "outputs": [
    {
     "data": {
      "text/plain": [
       "10094"
      ]
     },
     "execution_count": 34,
     "metadata": {},
     "output_type": "execute_result"
    }
   ],
   "source": [
    "input_feature['Most_Viewed_product_15_Days'].isna().sum() #null are present "
   ]
  },
  {
   "cell_type": "code",
   "execution_count": 35,
   "metadata": {},
   "outputs": [],
   "source": [
    "#nulls will fill up with Product101\n",
    "\n",
    "input_feature['Most_Viewed_product_15_Days'].fillna('Product101',inplace=True)"
   ]
  },
  {
   "cell_type": "markdown",
   "metadata": {},
   "source": [
    "## Most_Active_OS\n",
    "Most Frequently used OS by user"
   ]
  },
  {
   "cell_type": "code",
   "execution_count": 36,
   "metadata": {},
   "outputs": [],
   "source": [
    "active_os_temp = visitor_log_data[['UserID','OS','Browser']].groupby(['UserID','OS'])['Browser'].count().reset_index()\n",
    "\n",
    "#most active os\n",
    "\n",
    "active_os=active_os_temp.iloc[active_os_temp.groupby('UserID').apply(lambda x: x['Browser'].idxmax())]\n",
    "\n",
    "#create dic to map\n",
    "\n",
    "active_os_dic = pd.Series(active_os['OS'].values,index=active_os['UserID']).to_dict()\n",
    "input_feature['Most_Active_OS']= input_feature['UserID'].map(active_os_dic)"
   ]
  },
  {
   "cell_type": "markdown",
   "metadata": {},
   "source": [
    "## Recently_Viewed_Product\n",
    "\n",
    "Most recently viewed (page loads) product by the user.\n",
    "If a user has not viewed any product then put it as Product101."
   ]
  },
  {
   "cell_type": "code",
   "execution_count": 37,
   "metadata": {},
   "outputs": [],
   "source": [
    "#recently viewed products\n",
    "recently_viewed_products = visitor_log_data[['UserID','ProductID','VisitDateTime']][visitor_log_data['Activity']=='PAGELOAD'].groupby(['UserID','ProductID'])['VisitDateTime'].agg('max').reset_index()\n",
    "\n",
    "#most recent view product\n",
    "temp_recent_prodct = recently_viewed_products.iloc[recently_viewed_products.groupby('UserID').apply(lambda x: x['VisitDateTime'].idxmax())]\n",
    "\n",
    "#create dic to map\n",
    "temp_recent_prodct_dic = pd.Series(temp_recent_prodct['ProductID'].values,index=temp_recent_prodct['UserID']).to_dict()\n",
    "input_feature['Recently_Viewed_Product']= input_feature['UserID'].map(temp_recent_prodct_dic)"
   ]
  },
  {
   "cell_type": "code",
   "execution_count": 38,
   "metadata": {},
   "outputs": [],
   "source": [
    "#fillup the nan\n",
    "\n",
    "input_feature['Recently_Viewed_Product'].fillna('Product101',inplace=True)"
   ]
  },
  {
   "cell_type": "markdown",
   "metadata": {},
   "source": [
    "## Pageloads_last_7_days\n",
    "\n",
    "Count of Page loads in the last 7 days by the user"
   ]
  },
  {
   "cell_type": "code",
   "execution_count": 39,
   "metadata": {},
   "outputs": [],
   "source": [
    "Pageloads_last_7 = last_seven_days[last_seven_days['Activity']=='PAGELOAD'].groupby('UserID')['Activity'].count().reset_index()\n",
    "Pageloads_last_7_dic = pd.Series(Pageloads_last_7['Activity'].values,index=Pageloads_last_7['UserID']).to_dict()\n",
    "input_feature['Pageloads_last_7_days']= input_feature['UserID'].map(Pageloads_last_7_dic)"
   ]
  },
  {
   "cell_type": "code",
   "execution_count": 40,
   "metadata": {},
   "outputs": [],
   "source": [
    "#fill null with 0\n",
    "\n",
    "input_feature['Pageloads_last_7_days'].fillna(0,inplace=True)"
   ]
  },
  {
   "cell_type": "markdown",
   "metadata": {},
   "source": [
    "## Clicks_last_7_days\n",
    "Count of Clicks in the last 7 days  by the user"
   ]
  },
  {
   "cell_type": "code",
   "execution_count": 41,
   "metadata": {},
   "outputs": [],
   "source": [
    "CLICK_last_7 = last_seven_days[last_seven_days['Activity']=='CLICK'].groupby('UserID')['Activity'].count().reset_index()\n",
    "CLICK_last_7_dic = pd.Series(CLICK_last_7['Activity'].values,index=CLICK_last_7['UserID']).to_dict()\n",
    "input_feature['Clicks_last_7_days']= input_feature['UserID'].map(CLICK_last_7_dic)"
   ]
  },
  {
   "cell_type": "code",
   "execution_count": 42,
   "metadata": {},
   "outputs": [],
   "source": [
    "#fill null with 0\n",
    "\n",
    "input_feature['Clicks_last_7_days'].fillna(0,inplace=True)"
   ]
  },
  {
   "cell_type": "markdown",
   "metadata": {},
   "source": [
    "## file creation"
   ]
  },
  {
   "cell_type": "code",
   "execution_count": 43,
   "metadata": {},
   "outputs": [
    {
     "data": {
      "text/plain": [
       "UserID                           0\n",
       "No_of_days_Visited_7_Days        0\n",
       "No_Of_Products_Viewed_15_Days    0\n",
       "User_Vintage                     0\n",
       "Most_Viewed_product_15_Days      0\n",
       "Most_Active_OS                   0\n",
       "Recently_Viewed_Product          0\n",
       "Pageloads_last_7_days            0\n",
       "Clicks_last_7_days               0\n",
       "dtype: int64"
      ]
     },
     "execution_count": 43,
     "metadata": {},
     "output_type": "execute_result"
    }
   ],
   "source": [
    "input_feature.isna().sum()"
   ]
  },
  {
   "cell_type": "code",
   "execution_count": 44,
   "metadata": {},
   "outputs": [
    {
     "data": {
      "text/plain": [
       "34050"
      ]
     },
     "execution_count": 44,
     "metadata": {},
     "output_type": "execute_result"
    }
   ],
   "source": [
    "len(input_feature)"
   ]
  },
  {
   "cell_type": "code",
   "execution_count": 45,
   "metadata": {},
   "outputs": [],
   "source": [
    "input_feature.to_csv('input23.csv',index=None)"
   ]
  }
 ],
 "metadata": {
  "kernelspec": {
   "display_name": "Python 3",
   "language": "python",
   "name": "python3"
  },
  "language_info": {
   "codemirror_mode": {
    "name": "ipython",
    "version": 3
   },
   "file_extension": ".py",
   "mimetype": "text/x-python",
   "name": "python",
   "nbconvert_exporter": "python",
   "pygments_lexer": "ipython3",
   "version": "3.8.3"
  }
 },
 "nbformat": 4,
 "nbformat_minor": 4
}
