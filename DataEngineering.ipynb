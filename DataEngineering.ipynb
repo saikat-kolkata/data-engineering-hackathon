{
 "cells": [
  {
   "cell_type": "markdown",
   "metadata": {},
   "source": [
    "Hiring Hackathon - https://datahack.analyticsvidhya.com/contest/job-a-thon-june-2021\n",
    "<p><b>Problem Statement: </b>Your Client ComZ is an ecommerce company. The company wants to focus on targeting the right customers  with the right products to increase overall revenue and conversion rate.\n",
    "\n",
    "To target the right customers with the right products, they need to build an ML model for marketing based on user interaction with products in the past like number of views,  most viewed product, number of activities of user, vintage of user and others.\n",
    "ComZ has contacted the Data Science and Engineering team to use this information to fuel the personalized advertisements, email marketing campaigns, or special offers on the landing and category pages of the company's website.\n",
    "\n",
    "You, being a part of the data engineering team, are expected to “Develop input features”  for the efficient marketing model given the Visitor log data and User Data.</p>"
   ]
  },
  {
   "cell_type": "code",
   "execution_count": 1,
   "metadata": {},
   "outputs": [],
   "source": [
    "#import necessary libraries\n",
    "\n",
    "import pandas as pd \n",
    "import numpy as np\n",
    "from datetime import datetime\n",
    "import seaborn as sns\n",
    "\n",
    "import warnings\n",
    "warnings.filterwarnings(\"ignore\")"
   ]
  },
  {
   "cell_type": "code",
   "execution_count": null,
   "metadata": {},
   "outputs": [],
   "source": []
  },
  {
   "cell_type": "code",
   "execution_count": 2,
   "metadata": {},
   "outputs": [],
   "source": [
    "#date for calculation\n",
    "\n",
    "lastdayfrom = pd.to_datetime('5/28/2018') # end of the record"
   ]
  },
  {
   "cell_type": "code",
   "execution_count": null,
   "metadata": {},
   "outputs": [],
   "source": []
  },
  {
   "cell_type": "code",
   "execution_count": 3,
   "metadata": {},
   "outputs": [],
   "source": [
    "#create dataframe with visitor Log Data \n",
    "\n",
    "visitor_log_data = pd.read_csv('D:\\\\Hackathon\\\\DataEngineering\\\\data\\\\VisitorLogsData.csv') "
   ]
  },
  {
   "cell_type": "code",
   "execution_count": 4,
   "metadata": {},
   "outputs": [],
   "source": [
    "#create dataframe with user data \n",
    "\n",
    "user_data = pd.read_csv('D:\\\\Hackathon\\\\DataEngineering\\\\data\\\\userTable.csv')"
   ]
  },
  {
   "cell_type": "code",
   "execution_count": 5,
   "metadata": {},
   "outputs": [],
   "source": [
    "#input feature dataframe initialize\n",
    "\n",
    "input_feature = pd.read_csv('D:\\\\Hackathon\\\\DataEngineering\\\\sample_submission_M7Vpb9f.csv')\n"
   ]
  },
  {
   "cell_type": "code",
   "execution_count": 6,
   "metadata": {},
   "outputs": [
    {
     "data": {
      "text/html": [
       "<div>\n",
       "<style scoped>\n",
       "    .dataframe tbody tr th:only-of-type {\n",
       "        vertical-align: middle;\n",
       "    }\n",
       "\n",
       "    .dataframe tbody tr th {\n",
       "        vertical-align: top;\n",
       "    }\n",
       "\n",
       "    .dataframe thead th {\n",
       "        text-align: right;\n",
       "    }\n",
       "</style>\n",
       "<table border=\"1\" class=\"dataframe\">\n",
       "  <thead>\n",
       "    <tr style=\"text-align: right;\">\n",
       "      <th></th>\n",
       "      <th>webClientID</th>\n",
       "      <th>VisitDateTime</th>\n",
       "      <th>ProductID</th>\n",
       "      <th>UserID</th>\n",
       "      <th>Activity</th>\n",
       "      <th>Browser</th>\n",
       "      <th>OS</th>\n",
       "      <th>City</th>\n",
       "      <th>Country</th>\n",
       "    </tr>\n",
       "  </thead>\n",
       "  <tbody>\n",
       "    <tr>\n",
       "      <th>0</th>\n",
       "      <td>WI10000050298</td>\n",
       "      <td>2018-05-07 04:28:45.970</td>\n",
       "      <td>pr100631</td>\n",
       "      <td>NaN</td>\n",
       "      <td>NaN</td>\n",
       "      <td>Chrome Mobile</td>\n",
       "      <td>Android</td>\n",
       "      <td>Chennai</td>\n",
       "      <td>India</td>\n",
       "    </tr>\n",
       "    <tr>\n",
       "      <th>1</th>\n",
       "      <td>WI10000025922</td>\n",
       "      <td>2018-05-13 07:26:04.964</td>\n",
       "      <td>pr100707</td>\n",
       "      <td>NaN</td>\n",
       "      <td>NaN</td>\n",
       "      <td>Chrome</td>\n",
       "      <td>Windows</td>\n",
       "      <td>NaN</td>\n",
       "      <td>Taiwan</td>\n",
       "    </tr>\n",
       "    <tr>\n",
       "      <th>2</th>\n",
       "      <td>WI100000204522</td>\n",
       "      <td>2018-05-11 11:43:42.832</td>\n",
       "      <td>pr100030</td>\n",
       "      <td>NaN</td>\n",
       "      <td>click</td>\n",
       "      <td>Chrome</td>\n",
       "      <td>windows</td>\n",
       "      <td>Gurgaon</td>\n",
       "      <td>India</td>\n",
       "    </tr>\n",
       "    <tr>\n",
       "      <th>3</th>\n",
       "      <td>WI10000011974</td>\n",
       "      <td>2018-05-13 15:20:23.436</td>\n",
       "      <td>Pr100192</td>\n",
       "      <td>NaN</td>\n",
       "      <td>CLICK</td>\n",
       "      <td>Chrome</td>\n",
       "      <td>Windows</td>\n",
       "      <td></td>\n",
       "      <td></td>\n",
       "    </tr>\n",
       "    <tr>\n",
       "      <th>4</th>\n",
       "      <td>WI100000441953</td>\n",
       "      <td>2018-05-08 20:44:25.238</td>\n",
       "      <td>Pr100762</td>\n",
       "      <td>NaN</td>\n",
       "      <td>click</td>\n",
       "      <td>Chrome</td>\n",
       "      <td>mac os x</td>\n",
       "      <td>Iselin</td>\n",
       "      <td>United States</td>\n",
       "    </tr>\n",
       "  </tbody>\n",
       "</table>\n",
       "</div>"
      ],
      "text/plain": [
       "      webClientID            VisitDateTime ProductID UserID Activity  \\\n",
       "0   WI10000050298  2018-05-07 04:28:45.970  pr100631    NaN      NaN   \n",
       "1   WI10000025922  2018-05-13 07:26:04.964  pr100707    NaN      NaN   \n",
       "2  WI100000204522  2018-05-11 11:43:42.832  pr100030    NaN    click   \n",
       "3   WI10000011974  2018-05-13 15:20:23.436  Pr100192    NaN    CLICK   \n",
       "4  WI100000441953  2018-05-08 20:44:25.238  Pr100762    NaN    click   \n",
       "\n",
       "         Browser        OS     City        Country  \n",
       "0  Chrome Mobile   Android  Chennai          India  \n",
       "1         Chrome   Windows      NaN         Taiwan  \n",
       "2         Chrome   windows  Gurgaon          India  \n",
       "3         Chrome   Windows                          \n",
       "4         Chrome  mac os x   Iselin  United States  "
      ]
     },
     "execution_count": 6,
     "metadata": {},
     "output_type": "execute_result"
    }
   ],
   "source": [
    "visitor_log_data.head(5)"
   ]
  },
  {
   "cell_type": "code",
   "execution_count": 7,
   "metadata": {},
   "outputs": [
    {
     "data": {
      "text/html": [
       "<div>\n",
       "<style scoped>\n",
       "    .dataframe tbody tr th:only-of-type {\n",
       "        vertical-align: middle;\n",
       "    }\n",
       "\n",
       "    .dataframe tbody tr th {\n",
       "        vertical-align: top;\n",
       "    }\n",
       "\n",
       "    .dataframe thead th {\n",
       "        text-align: right;\n",
       "    }\n",
       "</style>\n",
       "<table border=\"1\" class=\"dataframe\">\n",
       "  <thead>\n",
       "    <tr style=\"text-align: right;\">\n",
       "      <th></th>\n",
       "      <th>UserID</th>\n",
       "      <th>Signup Date</th>\n",
       "      <th>User Segment</th>\n",
       "    </tr>\n",
       "  </thead>\n",
       "  <tbody>\n",
       "    <tr>\n",
       "      <th>0</th>\n",
       "      <td>U133159</td>\n",
       "      <td>2018-04-14 07:01:16.202607+00:00</td>\n",
       "      <td>C</td>\n",
       "    </tr>\n",
       "    <tr>\n",
       "      <th>1</th>\n",
       "      <td>U129368</td>\n",
       "      <td>2017-12-02 09:38:41.584270+00:00</td>\n",
       "      <td>B</td>\n",
       "    </tr>\n",
       "    <tr>\n",
       "      <th>2</th>\n",
       "      <td>U109654</td>\n",
       "      <td>2013-03-19 11:38:55+00:00</td>\n",
       "      <td>B</td>\n",
       "    </tr>\n",
       "    <tr>\n",
       "      <th>3</th>\n",
       "      <td>U108998</td>\n",
       "      <td>2018-01-18 08:29:51.627954+00:00</td>\n",
       "      <td>C</td>\n",
       "    </tr>\n",
       "    <tr>\n",
       "      <th>4</th>\n",
       "      <td>U131393</td>\n",
       "      <td>2018-03-27 08:05:28.806800+00:00</td>\n",
       "      <td>B</td>\n",
       "    </tr>\n",
       "  </tbody>\n",
       "</table>\n",
       "</div>"
      ],
      "text/plain": [
       "    UserID                       Signup Date User Segment\n",
       "0  U133159  2018-04-14 07:01:16.202607+00:00            C\n",
       "1  U129368  2017-12-02 09:38:41.584270+00:00            B\n",
       "2  U109654         2013-03-19 11:38:55+00:00            B\n",
       "3  U108998  2018-01-18 08:29:51.627954+00:00            C\n",
       "4  U131393  2018-03-27 08:05:28.806800+00:00            B"
      ]
     },
     "execution_count": 7,
     "metadata": {},
     "output_type": "execute_result"
    }
   ],
   "source": [
    "user_data.head()"
   ]
  },
  {
   "cell_type": "code",
   "execution_count": 8,
   "metadata": {},
   "outputs": [
    {
     "name": "stdout",
     "output_type": "stream",
     "text": [
      "Size of VisitorLogsData (6588000, 9)\n",
      "Size of userTable (34050, 3)\n"
     ]
    }
   ],
   "source": [
    "print('Size of VisitorLogsData',visitor_log_data.shape)\n",
    "print('Size of userTable',user_data.shape)"
   ]
  },
  {
   "cell_type": "code",
   "execution_count": 9,
   "metadata": {},
   "outputs": [
    {
     "data": {
      "text/plain": [
       "webClientID            0\n",
       "VisitDateTime     658915\n",
       "ProductID         527137\n",
       "UserID           5937305\n",
       "Activity          889446\n",
       "Browser                0\n",
       "OS                     0\n",
       "City             2165831\n",
       "Country           397693\n",
       "dtype: int64"
      ]
     },
     "execution_count": 9,
     "metadata": {},
     "output_type": "execute_result"
    }
   ],
   "source": [
    "#null present in the visitor log data\n",
    "\n",
    "visitor_log_data.isnull().sum()"
   ]
  },
  {
   "cell_type": "code",
   "execution_count": 10,
   "metadata": {},
   "outputs": [
    {
     "data": {
      "text/plain": [
       "UserID          0\n",
       "Signup Date     0\n",
       "User Segment    0\n",
       "dtype: int64"
      ]
     },
     "execution_count": 10,
     "metadata": {},
     "output_type": "execute_result"
    }
   ],
   "source": [
    "#null in user data\n",
    "\n",
    "user_data.isnull().sum()"
   ]
  },
  {
   "cell_type": "markdown",
   "metadata": {},
   "source": [
    "## Clean Dataset"
   ]
  },
  {
   "cell_type": "code",
   "execution_count": 11,
   "metadata": {},
   "outputs": [],
   "source": [
    "#field City and Country in visitor_log_data is not necessary so drop them\n",
    "\n",
    "visitor_log_data.drop(['City','Country','webClientID'],axis=1,inplace=True)"
   ]
  },
  {
   "cell_type": "code",
   "execution_count": 12,
   "metadata": {},
   "outputs": [
    {
     "name": "stdout",
     "output_type": "stream",
     "text": [
      "Previous DF size 6588000\n",
      "Post DF size 650695\n"
     ]
    }
   ],
   "source": [
    "#drop the rows where UserID is NULL\n",
    "\n",
    "print('Previous DF size', len(visitor_log_data))\n",
    "visitor_log_data.dropna(subset=['UserID'],inplace=True)\n",
    "print('Post DF size', len(visitor_log_data))"
   ]
  },
  {
   "cell_type": "code",
   "execution_count": 13,
   "metadata": {},
   "outputs": [],
   "source": [
    "# visitor_log_data[visitor_log_data['UserID']=='U115735'].head(30)"
   ]
  },
  {
   "cell_type": "code",
   "execution_count": 14,
   "metadata": {},
   "outputs": [],
   "source": [
    "#sorted the dataframe by UserID and then ffill VisitDateTime\n",
    "\n",
    "visitor_log_data.sort_values(by=['UserID','ProductID'],inplace = True)\n",
    "visitor_log_data['VisitDateTime'].ffill(inplace=True)\n",
    "visitor_log_data.sort_index(inplace=True)"
   ]
  },
  {
   "cell_type": "code",
   "execution_count": 15,
   "metadata": {},
   "outputs": [],
   "source": [
    "#transfer unix date time to normal\n",
    "\n",
    "\n",
    "visitor_log_data['VisitDateTime'] = visitor_log_data['VisitDateTime'].apply(lambda x: pd.to_datetime(int(x)) \n",
    "                                                                              if ('-' not in str(x)) else x)"
   ]
  },
  {
   "cell_type": "code",
   "execution_count": 16,
   "metadata": {},
   "outputs": [],
   "source": [
    "#first we sort the data based on 'UserID','VisitDateTime' and then we ffill the NULLs of Activity\n",
    "\n",
    "visitor_log_data.sort_values(by=['UserID','VisitDateTime'],inplace = True)\n",
    "visitor_log_data['Activity'].ffill(inplace=True)\n",
    "visitor_log_data['ProductID'].bfill(inplace=True)\n",
    "visitor_log_data.sort_index(inplace=True)"
   ]
  },
  {
   "cell_type": "code",
   "execution_count": 17,
   "metadata": {},
   "outputs": [],
   "source": [
    "#change strings to upper case for uniformity\n",
    "\n",
    "visitor_log_data['Activity'] = visitor_log_data['Activity'].str.upper()\n",
    "visitor_log_data['Browser'] = visitor_log_data['Browser'].str.upper()\n",
    "visitor_log_data['OS'] = visitor_log_data['OS'].str.upper()\n",
    "visitor_log_data['ProductID'] = visitor_log_data['ProductID'].str.upper()"
   ]
  },
  {
   "cell_type": "markdown",
   "metadata": {},
   "source": [
    "# Extract Features"
   ]
  },
  {
   "cell_type": "markdown",
   "metadata": {},
   "source": [
    "#### Does the data has only 21days record?"
   ]
  },
  {
   "cell_type": "code",
   "execution_count": 18,
   "metadata": {},
   "outputs": [
    {
     "data": {
      "text/plain": [
       "True"
      ]
     },
     "execution_count": 18,
     "metadata": {},
     "output_type": "execute_result"
    }
   ],
   "source": [
    "len(visitor_log_data) == len(visitor_log_data[visitor_log_data['VisitDateTime'] >= (pd.to_datetime(lastdayfrom) - pd.Timedelta(days=21))])"
   ]
  },
  {
   "cell_type": "markdown",
   "metadata": {},
   "source": [
    "## No_of_days_Visited_7_Days\n",
    "\n",
    "How many days a user was active on platform in the last 7 days."
   ]
  },
  {
   "cell_type": "code",
   "execution_count": 19,
   "metadata": {},
   "outputs": [],
   "source": [
    "#dataframe for last 7days data\n",
    "\n",
    "last_seven_days = visitor_log_data[visitor_log_data['VisitDateTime'] >= (pd.to_datetime(lastdayfrom) - pd.Timedelta(days=7))]\n",
    "\n",
    "#extract day of date\n",
    "\n",
    "last_seven_days['days'] = last_seven_days['VisitDateTime'].apply(lambda x: x.day)"
   ]
  },
  {
   "cell_type": "code",
   "execution_count": 20,
   "metadata": {},
   "outputs": [
    {
     "data": {
      "text/plain": [
       "16472"
      ]
     },
     "execution_count": 20,
     "metadata": {},
     "output_type": "execute_result"
    }
   ],
   "source": [
    "last_seven_days['UserID'].nunique() #no of users active. so there are few users who are active in last 7 days"
   ]
  },
  {
   "cell_type": "code",
   "execution_count": 21,
   "metadata": {},
   "outputs": [],
   "source": [
    "# create dictionary with userid and How many days a user was active on platform in the last 7 days\n",
    "\n",
    "temp_7_active_usr=last_seven_days[['UserID','days']].groupby(['UserID','days']).count().reset_index()\n",
    "df_7_active_usr = temp_7_active_usr.groupby('UserID').count().reset_index()\n",
    "dic_map_usr_7_Days = pd.Series(df_7_active_usr['days'].values,index=df_7_active_usr['UserID']).to_dict()"
   ]
  },
  {
   "cell_type": "code",
   "execution_count": 22,
   "metadata": {},
   "outputs": [
    {
     "data": {
      "text/plain": [
       "array([nan,  1.,  6.,  4.,  2.,  3.,  5.,  7.])"
      ]
     },
     "execution_count": 22,
     "metadata": {},
     "output_type": "execute_result"
    }
   ],
   "source": [
    "#filled input_feature mapped with user active in 7 days\n",
    "\n",
    "input_feature['No_of_days_Visited_7_Days']= input_feature['UserID'].map(dic_map_usr_7_Days)\n",
    "input_feature['No_of_days_Visited_7_Days'].unique()"
   ]
  },
  {
   "cell_type": "code",
   "execution_count": 23,
   "metadata": {},
   "outputs": [],
   "source": [
    "input_feature['No_of_days_Visited_7_Days'].fillna(0,inplace=True) #those user who were not active put zero for them"
   ]
  },
  {
   "cell_type": "markdown",
   "metadata": {},
   "source": [
    "## No_Of_Products_Viewed_15_Days\n",
    "\n",
    "Number of Products viewed by the user in the last 15 days"
   ]
  },
  {
   "cell_type": "code",
   "execution_count": 24,
   "metadata": {},
   "outputs": [],
   "source": [
    "#dataframe for last 7days data\n",
    "\n",
    "last_15_days = visitor_log_data[visitor_log_data['VisitDateTime'] >= (pd.to_datetime(lastdayfrom) - pd.Timedelta(days=15))]\n"
   ]
  },
  {
   "cell_type": "code",
   "execution_count": 25,
   "metadata": {},
   "outputs": [],
   "source": [
    "# create dictionary with userid and How many product a user viewed on platform in the last 15 days\n",
    "\n",
    "temp_15days_prodct = last_15_days[['UserID','ProductID']].groupby(['UserID','ProductID']).count().reset_index()\n",
    "df_15days_product = temp_15days_prodct.groupby('UserID')['ProductID'].count().reset_index()\n",
    "dic_map_15_Days_product = pd.Series(df_15days_product['ProductID'].values,index=df_15days_product['UserID']).to_dict()"
   ]
  },
  {
   "cell_type": "code",
   "execution_count": 26,
   "metadata": {},
   "outputs": [
    {
     "data": {
      "text/plain": [
       "array([  2.,   3.,  16.,   1.,  nan,  19.,  13.,   6.,   4.,   5.,   8.,\n",
       "        42.,  12.,   9.,  91.,  11.,  10.,  31.,  17.,   7.,  35.,  14.,\n",
       "        29.,  20.,  15.,  28.,  30.,  27.,  26.,  23.,  50.,  68.,  18.,\n",
       "        24.,  21.,  32., 104.,  47.,  40.,  41.,  22.,  59.,  43.,  33.,\n",
       "        25.,  39.,  44.,  51.,  37.,  65.,  45.,  34.,  70.,  36.,  52.,\n",
       "        38.,  78.,  80.,  69.])"
      ]
     },
     "execution_count": 26,
     "metadata": {},
     "output_type": "execute_result"
    }
   ],
   "source": [
    "#filled input_feature mapped with user active in 15 days\n",
    "\n",
    "input_feature['No_Of_Products_Viewed_15_Days']= input_feature['UserID'].map(dic_map_15_Days_product)\n",
    "input_feature['No_Of_Products_Viewed_15_Days'].unique()"
   ]
  },
  {
   "cell_type": "code",
   "execution_count": 27,
   "metadata": {},
   "outputs": [],
   "source": [
    "#those user who were not viewed products put zero for them\n",
    "\n",
    "input_feature['No_Of_Products_Viewed_15_Days'].fillna(0,inplace=True) "
   ]
  },
  {
   "cell_type": "markdown",
   "metadata": {},
   "source": [
    "## User_Vintage\n",
    "Vintage (In Days) of the user as of today"
   ]
  },
  {
   "cell_type": "code",
   "execution_count": 28,
   "metadata": {},
   "outputs": [],
   "source": [
    "#timezone must be excluded from Signup Date to get total Vintage (In Days), then we need only date transformation\n",
    "\n",
    "user_data['User_Vintage']= (lastdayfrom - pd.to_datetime(user_data['Signup Date']).dt.tz_localize(None))\n",
    "user_data['User_Vintage'] = user_data['User_Vintage'].dt.days"
   ]
  },
  {
   "cell_type": "code",
   "execution_count": 29,
   "metadata": {},
   "outputs": [],
   "source": [
    "#created dictionary to map it with input_feature's UserID\n",
    "\n",
    "user_vinta_dic = pd.Series(user_data['User_Vintage'].values,index=user_data['UserID']).to_dict()\n",
    "input_feature['User_Vintage']= input_feature['UserID'].map(user_vinta_dic)"
   ]
  },
  {
   "cell_type": "markdown",
   "metadata": {},
   "source": [
    "## Most_Viewed_product_15_Days\n",
    "Most frequently viewed (page loads) product by the user in the last 15 days. If there are multiple products that have a similar number of page loads then , consider the recent one. If a user has not viewed any product in the last 15 days then put it as Product101. "
   ]
  },
  {
   "cell_type": "code",
   "execution_count": 30,
   "metadata": {},
   "outputs": [],
   "source": [
    "view15_product = last_15_days[last_15_days['Activity'] == 'PAGELOAD'] #filter with PAGELOAD"
   ]
  },
  {
   "cell_type": "code",
   "execution_count": 31,
   "metadata": {},
   "outputs": [],
   "source": [
    "# in 15 days which products are viewed how many time by user\n",
    "\n",
    "temp_most_viewd = view15_product[['UserID','ProductID','Activity']].groupby(['UserID','ProductID'])['Activity'].count().reset_index()"
   ]
  },
  {
   "cell_type": "code",
   "execution_count": 32,
   "metadata": {},
   "outputs": [],
   "source": [
    "#most viewed product\n",
    "\n",
    "most_viewd_15=temp_most_viewd.iloc[temp_most_viewd.groupby('UserID').apply(lambda x: x['Activity'].idxmax())]\n"
   ]
  },
  {
   "cell_type": "code",
   "execution_count": 33,
   "metadata": {},
   "outputs": [],
   "source": [
    "most_viewed_prdct_dic = pd.Series(most_viewd_15['ProductID'].values,index=most_viewd_15['UserID']).to_dict()\n",
    "input_feature['Most_Viewed_product_15_Days']= input_feature['UserID'].map(most_viewed_prdct_dic)"
   ]
  },
  {
   "cell_type": "code",
   "execution_count": 34,
   "metadata": {},
   "outputs": [
    {
     "data": {
      "text/plain": [
       "10089"
      ]
     },
     "execution_count": 34,
     "metadata": {},
     "output_type": "execute_result"
    }
   ],
   "source": [
    "input_feature['Most_Viewed_product_15_Days'].isna().sum() #null are present "
   ]
  },
  {
   "cell_type": "code",
   "execution_count": 35,
   "metadata": {},
   "outputs": [],
   "source": [
    "#nulls will fill up with Product101\n",
    "\n",
    "input_feature['Most_Viewed_product_15_Days'].fillna('Product101',inplace=True)"
   ]
  },
  {
   "cell_type": "markdown",
   "metadata": {},
   "source": [
    "## Most_Active_OS\n",
    "Most Frequently used OS by user"
   ]
  },
  {
   "cell_type": "code",
   "execution_count": 36,
   "metadata": {},
   "outputs": [],
   "source": [
    "active_os_temp = visitor_log_data[['UserID','OS','Browser']].groupby(['UserID','OS'])['Browser'].count().reset_index()\n",
    "\n",
    "#most active os\n",
    "\n",
    "active_os=active_os_temp.iloc[active_os_temp.groupby('UserID').apply(lambda x: x['Browser'].idxmax())]\n",
    "\n",
    "#create dic to map\n",
    "\n",
    "active_os_dic = pd.Series(active_os['OS'].values,index=active_os['UserID']).to_dict()\n",
    "input_feature['Most_Active_OS']= input_feature['UserID'].map(active_os_dic)"
   ]
  },
  {
   "cell_type": "markdown",
   "metadata": {},
   "source": [
    "## Recently_Viewed_Product\n",
    "\n",
    "Most recently viewed (page loads) product by the user.\n",
    "If a user has not viewed any product then put it as Product101."
   ]
  },
  {
   "cell_type": "code",
   "execution_count": 37,
   "metadata": {},
   "outputs": [],
   "source": [
    "#recently viewed products\n",
    "recently_viewed_products = visitor_log_data[['UserID','ProductID','VisitDateTime']][visitor_log_data['Activity']=='PAGELOAD'].groupby(['UserID','ProductID'])['VisitDateTime'].agg('max').reset_index()\n",
    "\n",
    "#most recent view product\n",
    "temp_recent_prodct = recently_viewed_products.iloc[recently_viewed_products.groupby('UserID').apply(lambda x: x['VisitDateTime'].idxmax())]\n",
    "\n",
    "#create dic to map\n",
    "temp_recent_prodct_dic = pd.Series(temp_recent_prodct['ProductID'].values,index=temp_recent_prodct['UserID']).to_dict()\n",
    "input_feature['Recently_Viewed_Product']= input_feature['UserID'].map(temp_recent_prodct_dic)"
   ]
  },
  {
   "cell_type": "code",
   "execution_count": 38,
   "metadata": {},
   "outputs": [],
   "source": [
    "#fillup the nan\n",
    "\n",
    "input_feature['Recently_Viewed_Product'].fillna('Product101',inplace=True)"
   ]
  },
  {
   "cell_type": "markdown",
   "metadata": {},
   "source": [
    "## Pageloads_last_7_days\n",
    "\n",
    "Count of Page loads in the last 7 days by the user"
   ]
  },
  {
   "cell_type": "code",
   "execution_count": 39,
   "metadata": {},
   "outputs": [],
   "source": [
    "Pageloads_last_7 = last_seven_days[last_seven_days['Activity']=='PAGELOAD'].groupby('UserID')['Activity'].count().reset_index()\n",
    "Pageloads_last_7_dic = pd.Series(Pageloads_last_7['Activity'].values,index=Pageloads_last_7['UserID']).to_dict()\n",
    "input_feature['Pageloads_last_7_days']= input_feature['UserID'].map(Pageloads_last_7_dic)"
   ]
  },
  {
   "cell_type": "code",
   "execution_count": 40,
   "metadata": {},
   "outputs": [],
   "source": [
    "#fill null with 0\n",
    "\n",
    "input_feature['Pageloads_last_7_days'].fillna(0,inplace=True)"
   ]
  },
  {
   "cell_type": "markdown",
   "metadata": {},
   "source": [
    "## Clicks_last_7_days\n",
    "Count of Clicks in the last 7 days  by the user"
   ]
  },
  {
   "cell_type": "code",
   "execution_count": 41,
   "metadata": {},
   "outputs": [],
   "source": [
    "CLICK_last_7 = last_seven_days[last_seven_days['Activity']=='CLICK'].groupby('UserID')['Activity'].count().reset_index()\n",
    "CLICK_last_7_dic = pd.Series(CLICK_last_7['Activity'].values,index=CLICK_last_7['UserID']).to_dict()\n",
    "input_feature['Clicks_last_7_days']= input_feature['UserID'].map(CLICK_last_7_dic)"
   ]
  },
  {
   "cell_type": "code",
   "execution_count": 42,
   "metadata": {},
   "outputs": [],
   "source": [
    "#fill null with 0\n",
    "\n",
    "input_feature['Clicks_last_7_days'].fillna(0,inplace=True)"
   ]
  },
  {
   "cell_type": "markdown",
   "metadata": {},
   "source": [
    "## file creation"
   ]
  },
  {
   "cell_type": "code",
   "execution_count": 43,
   "metadata": {},
   "outputs": [
    {
     "data": {
      "text/plain": [
       "UserID                           0\n",
       "No_of_days_Visited_7_Days        0\n",
       "No_Of_Products_Viewed_15_Days    0\n",
       "User_Vintage                     0\n",
       "Most_Viewed_product_15_Days      0\n",
       "Most_Active_OS                   0\n",
       "Recently_Viewed_Product          0\n",
       "Pageloads_last_7_days            0\n",
       "Clicks_last_7_days               0\n",
       "dtype: int64"
      ]
     },
     "execution_count": 43,
     "metadata": {},
     "output_type": "execute_result"
    }
   ],
   "source": [
    "input_feature.isna().sum()"
   ]
  },
  {
   "cell_type": "code",
   "execution_count": 44,
   "metadata": {},
   "outputs": [
    {
     "data": {
      "text/plain": [
       "34050"
      ]
     },
     "execution_count": 44,
     "metadata": {},
     "output_type": "execute_result"
    }
   ],
   "source": [
    "len(input_feature)"
   ]
  },
  {
   "cell_type": "code",
   "execution_count": 45,
   "metadata": {},
   "outputs": [],
   "source": [
    "input_feature.to_csv('input20.csv',index=None)"
   ]
  }
 ],
 "metadata": {
  "kernelspec": {
   "display_name": "Python 3",
   "language": "python",
   "name": "python3"
  },
  "language_info": {
   "codemirror_mode": {
    "name": "ipython",
    "version": 3
   },
   "file_extension": ".py",
   "mimetype": "text/x-python",
   "name": "python",
   "nbconvert_exporter": "python",
   "pygments_lexer": "ipython3",
   "version": "3.8.3"
  }
 },
 "nbformat": 4,
 "nbformat_minor": 4
}
